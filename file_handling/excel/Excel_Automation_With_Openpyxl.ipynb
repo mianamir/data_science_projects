{
  "nbformat": 4,
  "nbformat_minor": 0,
  "metadata": {
    "colab": {
      "provenance": []
    },
    "kernelspec": {
      "name": "python3",
      "display_name": "Python 3"
    },
    "language_info": {
      "name": "python"
    }
  },
  "cells": [
    {
      "cell_type": "markdown",
      "source": [
        "# Excel Automation With Python/ openpyxl\n",
        "\n",
        "\n",
        "Datacamp tutorial: https://www.datacamp.com/tutorial/python-excel-tutorial\n",
        "\n",
        "Kaggle Dataset: https://www.kaggle.com/datasets/akshatsharma2/global-jobs-gdp-and-unemployment-data-19912022\n",
        "\n",
        "\n",
        "## Intersection of data science and marketing | self-taught data professional 💡\n",
        "\n",
        "\n",
        "- Python\n",
        "- Data Science\n",
        "- Spreadsheets\n",
        "- Automate Excel"
      ],
      "metadata": {
        "id": "CQAvFfh25-ex"
      }
    },
    {
      "cell_type": "code",
      "execution_count": 11,
      "metadata": {
        "colab": {
          "base_uri": "https://localhost:8080/"
        },
        "id": "oqf1dNuc58Yt",
        "outputId": "ae8319f7-a9a3-4ec0-a07e-c3856ac88d86"
      },
      "outputs": [
        {
          "output_type": "stream",
          "name": "stdout",
          "text": [
            "Requirement already satisfied: Openpyxl in /usr/local/lib/python3.12/dist-packages (3.1.5)\n",
            "Requirement already satisfied: et-xmlfile in /usr/local/lib/python3.12/dist-packages (from Openpyxl) (2.0.0)\n"
          ]
        }
      ],
      "source": [
        "!pip install Openpyxl"
      ]
    },
    {
      "cell_type": "code",
      "source": [
        "import openpyxl\n",
        "\n",
        "wb = openpyxl.load_workbook('/content/Employment_Unemployment_GDP_data.xlsx')"
      ],
      "metadata": {
        "id": "3ln324Y26JGK"
      },
      "execution_count": 3,
      "outputs": []
    },
    {
      "cell_type": "code",
      "source": [
        "ws = wb.active"
      ],
      "metadata": {
        "id": "lCJwXpuk6JCx"
      },
      "execution_count": 4,
      "outputs": []
    },
    {
      "cell_type": "code",
      "source": [
        "print('Total number of rows: '+str(ws.max_row)+'. And total number of columns: '+str(ws.max_column))"
      ],
      "metadata": {
        "colab": {
          "base_uri": "https://localhost:8080/"
        },
        "id": "V3DGs5Bn6I_6",
        "outputId": "3873f640-8fbf-41f0-f2ae-c868614df94e"
      },
      "execution_count": 5,
      "outputs": [
        {
          "output_type": "stream",
          "name": "stdout",
          "text": [
            "Total number of rows: 5752. And total number of columns: 7\n"
          ]
        }
      ]
    },
    {
      "cell_type": "code",
      "source": [
        "print('The value in cell A1 is: '+ws['A1'].value)"
      ],
      "metadata": {
        "colab": {
          "base_uri": "https://localhost:8080/"
        },
        "id": "hEIvupOC6I9C",
        "outputId": "c22d4cda-a197-49e3-d061-1aabcfb49de6"
      },
      "execution_count": 6,
      "outputs": [
        {
          "output_type": "stream",
          "name": "stdout",
          "text": [
            "The value in cell A1 is: Country Name\n"
          ]
        }
      ]
    },
    {
      "cell_type": "code",
      "source": [
        "values = [ws.cell(row=1,column=i).value for i in range(1,ws.max_column+1)]\n",
        "print(values)"
      ],
      "metadata": {
        "colab": {
          "base_uri": "https://localhost:8080/"
        },
        "id": "abm5kTPW6I6M",
        "outputId": "2f00ee5d-c09c-4457-e8cf-91885f2aaed8"
      },
      "execution_count": 7,
      "outputs": [
        {
          "output_type": "stream",
          "name": "stdout",
          "text": [
            "['Country Name', 'Year', 'Employment Sector: Agriculture', 'Employment Sector: Industry', 'Employment Sector: Services', 'Unemployment Rate', 'GDP (in USD)']\n"
          ]
        }
      ]
    },
    {
      "cell_type": "code",
      "source": [
        "data=[ws.cell(row=i,column=2).value for i in range(2,12)]\n",
        "print(data)"
      ],
      "metadata": {
        "colab": {
          "base_uri": "https://localhost:8080/"
        },
        "id": "24PE4_vk6I3U",
        "outputId": "5ce85443-85aa-4d60-e721-9b0bd9e3565d"
      },
      "execution_count": 8,
      "outputs": [
        {
          "output_type": "stream",
          "name": "stdout",
          "text": [
            "[1991.0, 1991.0, 1991.0, 1991.0, 1991.0, 1991.0, 1991.0, 1991.0, 1991.0, 1991.0]\n"
          ]
        }
      ]
    },
    {
      "cell_type": "code",
      "source": [
        "print(ws.title)\n",
        "\n",
        "\n",
        "# ws.title ='Video Game Sales Data'"
      ],
      "metadata": {
        "colab": {
          "base_uri": "https://localhost:8080/"
        },
        "id": "ruE6eaDV6I0c",
        "outputId": "330ea200-5ddd-4b44-f6be-504894069d16"
      },
      "execution_count": 10,
      "outputs": [
        {
          "output_type": "stream",
          "name": "stdout",
          "text": [
            "Employment_Unemployment_GDP_dat\n"
          ]
        }
      ]
    },
    {
      "cell_type": "code",
      "source": [
        "# convert csv to excel\n",
        "\n",
        "# import pandas as pd\n",
        "# data = pd.read_csv('data.csv')  # Load CSV file\n",
        "# data.to_excel('data.xlsx', index=False)  # Save as Excel"
      ],
      "metadata": {
        "id": "eo_yZItN6Ixk"
      },
      "execution_count": null,
      "outputs": []
    },
    {
      "cell_type": "markdown",
      "source": [
        "# Excel automation\n",
        "\n",
        "- Loading an Existing Workbook\n",
        "- Accessing Worksheets\n",
        "- Accessing Cell Values\n",
        "- Saving Workbooks\n",
        "- Creating, Listing and Changing Sheets\n",
        "- Creating a New Workbook\n",
        "- Adding/Appending Rows\n",
        "- Accessing Multiple Cells\n",
        "- Merging Cells\n",
        "- Inserting and Deleting Rows\n",
        "- Inserting and Deleting Columns\n",
        "- Copying and Moving Cells\n",
        "- Formulas & Cell Styling"
      ],
      "metadata": {
        "id": "6rxDzh6rV5kA"
      }
    },
    {
      "cell_type": "code",
      "source": [
        "from openpyxl import Workbook, load_workbook\n",
        "from openpyxl.utils import get_column_letter\n",
        "from openpyxl.styles import Font\n",
        "\n",
        "data = {\n",
        "\t\"Joe\": {\n",
        "\t\t\"math\": 65,\n",
        "\t\t\"science\": 78,\n",
        "\t\t\"english\": 98,\n",
        "\t\t\"gym\": 89\n",
        "\t},\n",
        "\t\"Bill\": {\n",
        "\t\t\"math\": 55,\n",
        "\t\t\"science\": 72,\n",
        "\t\t\"english\": 87,\n",
        "\t\t\"gym\": 95\n",
        "\t},\n",
        "\t\"Tim\": {\n",
        "\t\t\"math\": 100,\n",
        "\t\t\"science\": 45,\n",
        "\t\t\"english\": 75,\n",
        "\t\t\"gym\": 92\n",
        "\t},\n",
        "\t\"Sally\": {\n",
        "\t\t\"math\": 30,\n",
        "\t\t\"science\": 25,\n",
        "\t\t\"english\": 45,\n",
        "\t\t\"gym\": 100\n",
        "\t},\n",
        "\t\"Jane\": {\n",
        "\t\t\"math\": 100,\n",
        "\t\t\"science\": 100,\n",
        "\t\t\"english\": 100,\n",
        "\t\t\"gym\": 60\n",
        "\t}\n",
        "}\n",
        "\n",
        "wb = Workbook()\n",
        "ws = wb.active\n",
        "ws.title = \"Grades\"\n",
        "\n",
        "headings = ['Name'] + list(data['Joe'].keys())\n",
        "ws.append(headings)\n",
        "\n",
        "for person in data:\n",
        "\tgrades = list(data[person].values())\n",
        "\tws.append([person] + grades)\n",
        "\n",
        "for col in range(2, len(data['Joe']) + 2):\n",
        "\tchar = get_column_letter(col)\n",
        "\tws[char + \"7\"] = f\"=SUM({char + '2'}:{char + '6'})/{len(data)}\"\n",
        "\n",
        "for col in range(1, 6):\n",
        "\tws[get_column_letter(col) + '1'].font = Font(bold=True, color=\"0099CCFF\")\n",
        "\n",
        "wb.save(\"final.xlsx\")"
      ],
      "metadata": {
        "id": "xBYvkYqW6Iut"
      },
      "execution_count": 12,
      "outputs": []
    },
    {
      "cell_type": "code",
      "source": [],
      "metadata": {
        "id": "r9rq4y6G6Ir3"
      },
      "execution_count": null,
      "outputs": []
    },
    {
      "cell_type": "code",
      "source": [],
      "metadata": {
        "id": "OQegBC396Io_"
      },
      "execution_count": null,
      "outputs": []
    },
    {
      "cell_type": "code",
      "source": [],
      "metadata": {
        "id": "tRmlBrg36ImK"
      },
      "execution_count": null,
      "outputs": []
    },
    {
      "cell_type": "code",
      "source": [],
      "metadata": {
        "id": "rVjbYc776IjB"
      },
      "execution_count": null,
      "outputs": []
    },
    {
      "cell_type": "code",
      "source": [],
      "metadata": {
        "id": "VJ_bdKPc6IgJ"
      },
      "execution_count": null,
      "outputs": []
    },
    {
      "cell_type": "code",
      "source": [],
      "metadata": {
        "id": "gvnje9Iu6IdR"
      },
      "execution_count": null,
      "outputs": []
    },
    {
      "cell_type": "code",
      "source": [],
      "metadata": {
        "id": "jk-SVGxg6IaZ"
      },
      "execution_count": null,
      "outputs": []
    },
    {
      "cell_type": "code",
      "source": [],
      "metadata": {
        "id": "x_Mq5VJb6IXi"
      },
      "execution_count": null,
      "outputs": []
    },
    {
      "cell_type": "code",
      "source": [],
      "metadata": {
        "id": "7i2hUqcs6IUr"
      },
      "execution_count": null,
      "outputs": []
    },
    {
      "cell_type": "code",
      "source": [],
      "metadata": {
        "id": "LEkMysvn6IR0"
      },
      "execution_count": null,
      "outputs": []
    },
    {
      "cell_type": "code",
      "source": [],
      "metadata": {
        "id": "CIzQjHOU6IO8"
      },
      "execution_count": null,
      "outputs": []
    },
    {
      "cell_type": "code",
      "source": [],
      "metadata": {
        "id": "vpJz_bIw6IMF"
      },
      "execution_count": null,
      "outputs": []
    },
    {
      "cell_type": "code",
      "source": [],
      "metadata": {
        "id": "XTHQk1dt6IJO"
      },
      "execution_count": null,
      "outputs": []
    },
    {
      "cell_type": "code",
      "source": [],
      "metadata": {
        "id": "P6MwQ_0w6IGW"
      },
      "execution_count": null,
      "outputs": []
    },
    {
      "cell_type": "code",
      "source": [],
      "metadata": {
        "id": "Z3Vrfva56IDO"
      },
      "execution_count": null,
      "outputs": []
    },
    {
      "cell_type": "code",
      "source": [],
      "metadata": {
        "id": "z0QDRf3A6IAW"
      },
      "execution_count": null,
      "outputs": []
    },
    {
      "cell_type": "code",
      "source": [],
      "metadata": {
        "id": "0uHG_ZAZ6H9f"
      },
      "execution_count": null,
      "outputs": []
    },
    {
      "cell_type": "code",
      "source": [],
      "metadata": {
        "id": "kz8B6Ze26H6p"
      },
      "execution_count": null,
      "outputs": []
    },
    {
      "cell_type": "code",
      "source": [],
      "metadata": {
        "id": "XHrn6eE-6H3x"
      },
      "execution_count": null,
      "outputs": []
    },
    {
      "cell_type": "code",
      "source": [],
      "metadata": {
        "id": "tTynyHFP6H05"
      },
      "execution_count": null,
      "outputs": []
    },
    {
      "cell_type": "code",
      "source": [],
      "metadata": {
        "id": "1vivh7ZT6HyU"
      },
      "execution_count": null,
      "outputs": []
    },
    {
      "cell_type": "code",
      "source": [],
      "metadata": {
        "id": "3qo_DbYU6HvL"
      },
      "execution_count": null,
      "outputs": []
    },
    {
      "cell_type": "code",
      "source": [],
      "metadata": {
        "id": "Xl7aTSFy6HsU"
      },
      "execution_count": null,
      "outputs": []
    },
    {
      "cell_type": "code",
      "source": [],
      "metadata": {
        "id": "9q_nmMF76Hpc"
      },
      "execution_count": null,
      "outputs": []
    },
    {
      "cell_type": "code",
      "source": [],
      "metadata": {
        "id": "fBpTtZSZ6Hmm"
      },
      "execution_count": null,
      "outputs": []
    },
    {
      "cell_type": "code",
      "source": [],
      "metadata": {
        "id": "w-z5RyIL6Hjt"
      },
      "execution_count": null,
      "outputs": []
    },
    {
      "cell_type": "code",
      "source": [],
      "metadata": {
        "id": "gJXSCoJn6Hg3"
      },
      "execution_count": null,
      "outputs": []
    },
    {
      "cell_type": "code",
      "source": [],
      "metadata": {
        "id": "fc7A3BEQ6Hd_"
      },
      "execution_count": null,
      "outputs": []
    },
    {
      "cell_type": "code",
      "source": [],
      "metadata": {
        "id": "88YBV_SS6HbI"
      },
      "execution_count": null,
      "outputs": []
    },
    {
      "cell_type": "code",
      "source": [],
      "metadata": {
        "id": "4gaCG7NE6HYQ"
      },
      "execution_count": null,
      "outputs": []
    },
    {
      "cell_type": "code",
      "source": [],
      "metadata": {
        "id": "h9aG1NA36HVa"
      },
      "execution_count": null,
      "outputs": []
    },
    {
      "cell_type": "code",
      "source": [],
      "metadata": {
        "id": "WA5ycWuM6HSi"
      },
      "execution_count": null,
      "outputs": []
    },
    {
      "cell_type": "code",
      "source": [],
      "metadata": {
        "id": "PKzZv0pX6HPq"
      },
      "execution_count": null,
      "outputs": []
    },
    {
      "cell_type": "code",
      "source": [],
      "metadata": {
        "id": "Dn7BbxGv6HM1"
      },
      "execution_count": null,
      "outputs": []
    },
    {
      "cell_type": "code",
      "source": [],
      "metadata": {
        "id": "pXmuWVXO6HEu"
      },
      "execution_count": null,
      "outputs": []
    }
  ]
}